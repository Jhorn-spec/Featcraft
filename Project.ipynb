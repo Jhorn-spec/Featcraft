{
 "cells": [
  {
   "cell_type": "code",
   "execution_count": 1,
   "id": "90a683e5-9a2e-4f20-9cac-ccc27f891f1b",
   "metadata": {},
   "outputs": [
    {
     "name": "stderr",
     "output_type": "stream",
     "text": [
      "C:\\Users\\biodu\\anaconda3\\lib\\site-packages\\scipy\\__init__.py:146: UserWarning: A NumPy version >=1.16.5 and <1.23.0 is required for this version of SciPy (detected version 1.26.2\n",
      "  warnings.warn(f\"A NumPy version >={np_minversion} and <{np_maxversion}\"\n"
     ]
    },
    {
     "name": "stdout",
     "output_type": "stream",
     "text": [
      "WARNING:tensorflow:From C:\\Users\\biodu\\anaconda3\\lib\\site-packages\\keras\\src\\losses.py:2976: The name tf.losses.sparse_softmax_cross_entropy is deprecated. Please use tf.compat.v1.losses.sparse_softmax_cross_entropy instead.\n",
      "\n"
     ]
    }
   ],
   "source": [
    "from zipfile import ZipFile\n",
    "import os\n",
    "import shutil\n",
    "import pandas as pd\n",
    "import numpy as np\n",
    "import matplotlib.pyplot as plt\n",
    "\n",
    "import random\n",
    "import tensorflow as tf\n",
    "from tensorflow.keras.preprocessing.image import ImageDataGenerator\n",
    "from shutil import copyfile"
   ]
  },
  {
   "cell_type": "code",
   "execution_count": 2,
   "id": "d2784609-5ee1-4cfd-a5a9-b1d12bb9f953",
   "metadata": {},
   "outputs": [],
   "source": [
    "# define paths\n",
    "root_dir = os.path.join(os.getcwd(), 'data')\n",
    "# Proportion of images used for training\n",
    "split_size = .9\n",
    "\n",
    "BUFFALO_SOURCE_DIR = root_dir + '/buffalo/'\n",
    "ELEPHANT_SOURCE_DIR = root_dir + '/elephant/'\n",
    "RHINO_SOURCE_DIR = root_dir + '/rhino/'\n",
    "ZEBRA_SOURCE_DIR = root_dir + '/zebra/'\n",
    "\n",
    "TRAINING_DIR = root_dir + \"/training/\"\n",
    "VALIDATION_DIR = root_dir + \"/validation/\"\n",
    "\n",
    "TRAINING_BUFFALO_DIR = os.path.join(TRAINING_DIR, \"buffalo/\")\n",
    "VALIDATION_BUFFALO_DIR = os.path.join(VALIDATION_DIR, \"buffalo/\")\n",
    "\n",
    "TRAINING_ELEPHANT_DIR = os.path.join(TRAINING_DIR, \"elephant/\")\n",
    "VALIDATION_ELEPHANT_DIR = os.path.join(VALIDATION_DIR, \"elephant/\")\n",
    "\n",
    "TRAINING_RHINO_DIR = os.path.join(TRAINING_DIR, \"rhino/\")\n",
    "VALIDATION_RHINO_DIR = os.path.join(VALIDATION_DIR, \"rhino/\")\n",
    "\n",
    "TRAINING_ZEBRA_DIR = os.path.join(TRAINING_DIR, \"zebra/\")\n",
    "VALIDATION_ZEBRA_DIR = os.path.join(VALIDATION_DIR, \"zebra/\")"
   ]
  },
  {
   "cell_type": "code",
   "execution_count": 3,
   "id": "d546079c-408e-456c-9247-bf0fe9bd202e",
   "metadata": {},
   "outputs": [],
   "source": [
    "# create training and validation directories\n",
    "\n",
    "# define function\n",
    "def create_train_val_dirs(root_path):\n",
    "    root_path = root_dir\n",
    "    \n",
    "    # subdirectories for training and validation\n",
    "    TRAINING_DIR = root_dir + \"/training/\"\n",
    "    VALIDATION_DIR = root_dir + \"/validation/\"\n",
    "    \n",
    "    # subdirectories for the different classes\n",
    "    TRAINING_BUFFALO_DIR = os.path.join(TRAINING_DIR, \"buffalo/\")\n",
    "    VALIDATION_BUFFALO_DIR = os.path.join(VALIDATION_DIR, \"buffalo/\")\n",
    "\n",
    "    TRAINING_ELEPHANT_DIR = os.path.join(TRAINING_DIR, \"elephant/\")\n",
    "    VALIDATION_ELEPHANT_DIR = os.path.join(VALIDATION_DIR, \"elephant/\")\n",
    "\n",
    "    TRAINING_RHINO_DIR = os.path.join(TRAINING_DIR, \"rhino/\")\n",
    "    VALIDATION_RHINO_DIR = os.path.join(VALIDATION_DIR, \"rhino/\")\n",
    "\n",
    "    TRAINING_ZEBRA_DIR = os.path.join(TRAINING_DIR, \"zebra/\")\n",
    "    VALIDATION_ZEBRA_DIR = os.path.join(VALIDATION_DIR, \"zebra/\")\n",
    "    \n",
    "\n",
    "    # Make directories\n",
    "    os.makedirs(TRAINING_BUFFALO_DIR, exist_ok=True)\n",
    "    os.makedirs(TRAINING_ELEPHANT_DIR, exist_ok=True)\n",
    "    os.makedirs(TRAINING_RHINO_DIR, exist_ok=True)\n",
    "    os.makedirs(TRAINING_ZEBRA_DIR, exist_ok=True)\n",
    "    os.makedirs(VALIDATION_BUFFALO_DIR, exist_ok=True)\n",
    "    os.makedirs(VALIDATION_ELEPHANT_DIR, exist_ok=True)\n",
    "    os.makedirs(VALIDATION_RHINO_DIR, exist_ok=True)\n",
    "    os.makedirs(VALIDATION_ZEBRA_DIR, exist_ok=True)\n",
    "    \n",
    "    pass\n",
    "\n",
    "# try:\n",
    "#     create_train_val_dirs(root_dir)\n",
    "# except Exception as e:\n",
    "#     print(e)"
   ]
  },
  {
   "cell_type": "code",
   "execution_count": 4,
   "id": "d43fe594-434b-46b4-b0e1-57ed01a46ef0",
   "metadata": {},
   "outputs": [],
   "source": [
    "# Function to split data into training and validation sets\n",
    "def split_data(SOURCE_DIR, TRAINING_DIR, VALIDATION_DIR, SPLIT_SIZE):\n",
    "    \"\"\"\n",
    "    Splits the data into train and test sets\n",
    "\n",
    "    Args:\n",
    "    SOURCE_DIR (string): directory path containing the images\n",
    "    TRAINING_DIR (string): directory path to be used for training\n",
    "    VALIDATION_DIR (string): directory path to be used for validation\n",
    "    SPLIT_SIZE (float): proportion of the dataset to be used for training\n",
    "\n",
    "    Returns:\n",
    "    None\n",
    "    \"\"\"\n",
    "\n",
    "\n",
    "    unshuffled = []\n",
    "    for obj in os.listdir(SOURCE_DIR):\n",
    "        path = os.path.join(SOURCE_DIR, obj)\n",
    "        if os.path.getsize(path) > 0:\n",
    "            if obj.endswith(\".jpg\"):\n",
    "                unshuffled.append(obj)\n",
    "\n",
    "        else:\n",
    "            print(f\"{obj} is zero length, so ignoring.\")\n",
    "\n",
    "    training_list = random.sample(unshuffled, int(len(unshuffled)*SPLIT_SIZE))\n",
    "    validation_list = [i for i in unshuffled if i not in training_list]\n",
    "\n",
    "    for obj in training_list:\n",
    "        copyfile(SOURCE_DIR + obj, TRAINING_DIR + obj)\n",
    "    for obj in validation_list:\n",
    "        copyfile(os.path.join(SOURCE_DIR, obj), VALIDATION_DIR+obj)\n",
    "\n",
    "    pass"
   ]
  },
  {
   "cell_type": "code",
   "execution_count": 7,
   "id": "4a6c5742-38bc-430e-a41b-c9a83b3fd6c9",
   "metadata": {
    "tags": []
   },
   "outputs": [
    {
     "name": "stdout",
     "output_type": "stream",
     "text": [
      "success\n"
     ]
    }
   ],
   "source": [
    "# extract the zip file\n",
    "with ZipFile('archive.zip', 'r') as f:\n",
    "    f.extractall('data')\n",
    "    try:\n",
    "        create_train_val_dirs(root_dir)\n",
    "    except Exception as e:\n",
    "        print(e)\n",
    "    \n",
    "    # Empty directories in case of multiple runs\n",
    "    if len(os.listdir(TRAINING_BUFFALO_DIR)) > 0:\n",
    "        for file in os.scandir(TRAINING_BUFFALO_DIR):\n",
    "            os.remove(file.path)\n",
    "    if len(os.listdir(TRAINING_ELEPHANT_DIR)) > 0:\n",
    "        for file in os.scandir(TRAINING_ELEPHANT_DIR):\n",
    "            os.remove(file.path)\n",
    "    if len(os.listdir(TRAINING_RHINO_DIR)) > 0:\n",
    "        for file in os.scandir(TRAINING_RHINO_DIR):\n",
    "            os.remove(file.path)\n",
    "    if len(os.listdir(TRAINING_ZEBRA_DIR)) > 0:\n",
    "        for file in os.scandir(TRAINING_ZEBRA_DIR):\n",
    "            os.remove(file.path)\n",
    "\n",
    "\n",
    "    if len(os.listdir(VALIDATION_BUFFALO_DIR)) > 0:\n",
    "        for file in os.scandir(VALIDATION_BUFFALO_DIR):\n",
    "            os.remove(file.path)\n",
    "    if len(os.listdir(VALIDATION_ELEPHANT_DIR)) > 0:\n",
    "        for file in os.scandir(VALIDATION_ELEPHANT_DIR):\n",
    "            os.remove(file.path)\n",
    "    if len(os.listdir(VALIDATION_RHINO_DIR)) > 0:\n",
    "        for file in os.scandir(VALIDATION_RHINO_DIR):\n",
    "            os.remove(file.path)\n",
    "    if len(os.listdir(VALIDATION_ZEBRA_DIR)) > 0:\n",
    "        for file in os.scandir(VALIDATION_ZEBRA_DIR):\n",
    "            os.remove(file.path)  \n",
    "    \n",
    "    # split the data\n",
    "    split_data(BUFFALO_SOURCE_DIR, TRAINING_BUFFALO_DIR, VALIDATION_BUFFALO_DIR, split_size)\n",
    "    split_data(ELEPHANT_SOURCE_DIR, TRAINING_ELEPHANT_DIR, VALIDATION_ELEPHANT_DIR, split_size)\n",
    "    split_data(RHINO_SOURCE_DIR, TRAINING_RHINO_DIR, VALIDATION_RHINO_DIR, split_size)\n",
    "    split_data(ZEBRA_SOURCE_DIR, TRAINING_ZEBRA_DIR, VALIDATION_ZEBRA_DIR, split_size)\n",
    "    \n",
    "    print('success')"
   ]
  },
  {
   "cell_type": "code",
   "execution_count": 8,
   "id": "eb6aa3c0-9787-4b1c-8699-4217787565e1",
   "metadata": {},
   "outputs": [],
   "source": [
    "# Clean up the directory\n",
    "shutil.rmtree(BUFFALO_SOURCE_DIR)\n",
    "shutil.rmtree(ELEPHANT_SOURCE_DIR)\n",
    "shutil.rmtree(RHINO_SOURCE_DIR)\n",
    "shutil.rmtree(ZEBRA_SOURCE_DIR)"
   ]
  },
  {
   "cell_type": "code",
   "execution_count": null,
   "id": "5fd53447-088d-449e-a185-8dd8666b3576",
   "metadata": {
    "jupyter": {
     "source_hidden": true
    },
    "tags": []
   },
   "outputs": [],
   "source": [
    "# # create directories\n",
    "# for animal in animals:\n",
    "#     img_path = os.path.join(root_dir, 'images', animal)\n",
    "#     txt_path = os.path.join(root_dir, 'text', animal)\n",
    "#     os.makedirs(img_path, exist_ok=True)\n",
    "#     os.makedirs(txt_path, exist_ok=True)"
   ]
  },
  {
   "cell_type": "code",
   "execution_count": null,
   "id": "0b54067f-f0aa-4087-969b-ba981f64aabf",
   "metadata": {
    "jupyter": {
     "source_hidden": true
    },
    "tags": []
   },
   "outputs": [],
   "source": [
    "# # copy images and text files\n",
    "# for animal in animals:\n",
    "#     source = os.path.join(root_dir, animal)\n",
    "#     img_destination = os.path.join(root_dir, 'images', animal)\n",
    "#     txt_destination = os.path.join(root_dir, 'text', animal)\n",
    "#     for item in os.listdir(source):\n",
    "#         if item.endswith('.jpg'):\n",
    "#             shutil.copy(os.path.join(source, item), img_destination)\n",
    "#         elif item.endswith('.txt'):\n",
    "#             shutil.copy(os.path.join(source, item), txt_destination)"
   ]
  },
  {
   "cell_type": "code",
   "execution_count": null,
   "id": "2c62bc26-d018-4127-8e5e-ca4cc8bac4eb",
   "metadata": {},
   "outputs": [],
   "source": []
  },
  {
   "cell_type": "code",
   "execution_count": null,
   "id": "9572fd74-a9fb-4f5b-937c-bdc897d678f4",
   "metadata": {
    "jupyter": {
     "source_hidden": true
    },
    "tags": []
   },
   "outputs": [],
   "source": [
    "# # Test the split data function\n",
    "\n",
    "# # Define paths\n",
    "# BUFFALO_SOURCE_DIR = root_dir + '/buffalo/'\n",
    "# ELEPHANT_SOURCE_DIR = root_dir + '/elephant/'\n",
    "# RHINO_SOURCE_DIR = root_dir + '/rhino/'\n",
    "# ZEBRA_SOURCE_DIR = root_dir + '/zebra/'\n",
    "\n",
    "# TRAINING_DIR = root_dir + \"/training/\"\n",
    "# VALIDATION_DIR = root_dir + \"/validation/\"\n",
    "\n",
    "# TRAINING_BUFFALO_DIR = os.path.join(TRAINING_DIR, \"buffalo/\")\n",
    "# VALIDATION_BUFFALO_DIR = os.path.join(VALIDATION_DIR, \"buffalo/\")\n",
    "\n",
    "# TRAINING_ELEPHANT_DIR = os.path.join(TRAINING_DIR, \"elephant/\")\n",
    "# VALIDATION_ELEPHANT_DIR = os.path.join(VALIDATION_DIR, \"elephant/\")\n",
    "\n",
    "# TRAINING_RHINO_DIR = os.path.join(TRAINING_DIR, \"rhino/\")\n",
    "# VALIDATION_RHINO_DIR = os.path.join(VALIDATION_DIR, \"rhino/\")\n",
    "\n",
    "# TRAINING_ZEBRA_DIR = os.path.join(TRAINING_DIR, \"zebra/\")\n",
    "# VALIDATION_ZEBRA_DIR = os.path.join(VALIDATION_DIR, \"zebra/\")\n",
    "\n",
    "\n",
    "# # Empty directories in case you run this cell multiple times\n",
    "# if len(os.listdir(TRAINING_BUFFALO_DIR)) > 0:\n",
    "#     for file in os.scandir(TRAINING_BUFFALO_DIR):\n",
    "#         os.remove(file.path)\n",
    "# if len(os.listdir(TRAINING_ELEPHANT_DIR)) > 0:\n",
    "#     for file in os.scandir(TRAINING_ELEPHANT_DIR):\n",
    "#         os.remove(file.path)\n",
    "# if len(os.listdir(TRAINING_RHINO_DIR)) > 0:\n",
    "#     for file in os.scandir(TRAINING_RHINO_DIR):\n",
    "#         os.remove(file.path)\n",
    "# if len(os.listdir(TRAINING_ZEBRA_DIR)) > 0:\n",
    "#     for file in os.scandir(TRAINING_ZEBRA_DIR):\n",
    "#         os.remove(file.path)\n",
    "\n",
    "    \n",
    "# if len(os.listdir(VALIDATION_BUFFALO_DIR)) > 0:\n",
    "#     for file in os.scandir(VALIDATION_BUFFALO_DIR):\n",
    "#         os.remove(file.path)\n",
    "# if len(os.listdir(VALIDATION_ELEPHANT_DIR)) > 0:\n",
    "#     for file in os.scandir(VALIDATION_ELEPHANT_DIR):\n",
    "#         os.remove(file.path)\n",
    "# if len(os.listdir(VALIDATION_RHINO_DIR)) > 0:\n",
    "#     for file in os.scandir(VALIDATION_RHINO_DIR):\n",
    "#         os.remove(file.path)\n",
    "# if len(os.listdir(VALIDATION_ZEBRA_DIR)) > 0:\n",
    "#     for file in os.scandir(VALIDATION_ZEBRA_DIR):\n",
    "#         os.remove(file.path)    \n",
    "        \n",
    "        \n",
    "# # Define proportion of images used for training\n",
    "# split_size = .9\n",
    "\n",
    "# # Run the function\n",
    "# # NOTE: Messages about zero length images should be printed out\n",
    "# split_data(BUFFALO_SOURCE_DIR, TRAINING_BUFFALO_DIR, VALIDATION_BUFFALO_DIR, split_size)\n",
    "# split_data(ELEPHANT_SOURCE_DIR, TRAINING_ELEPHANT_DIR, VALIDATION_ELEPHANT_DIR, split_size)\n",
    "# split_data(RHINO_SOURCE_DIR, TRAINING_RHINO_DIR, VALIDATION_RHINO_DIR, split_size)\n",
    "# split_data(ZEBRA_SOURCE_DIR, TRAINING_ZEBRA_DIR, VALIDATION_ZEBRA_DIR, split_size)\n",
    "\n",
    "# # Check that the number of images matches the expected output\n",
    "\n",
    "# # NOTE: function should perform copies rather than moving images so original directories should contain unchanged images\n",
    "# print(f\"\\n\\nOriginal buffalo's directory has {len(os.listdir(BUFFALO_SOURCE_DIR))} images\")\n",
    "# print(f\"Original elephant's directory has {len(os.listdir(ELEPHANT_SOURCE_DIR))} images\")\n",
    "# print(f\"Original rhino's directory has {len(os.listdir(RHINO_SOURCE_DIR))} images\")\n",
    "# print(f\"Original zebra's directory has {len(os.listdir(ZEBRA_SOURCE_DIR))} images\\n\")\n",
    "\n",
    "# # Training and validation splits\n",
    "# print(f\"There are {len(os.listdir(TRAINING_BUFFALO_DIR))} images of buffalo for training\")\n",
    "# print(f\"There are {len(os.listdir(TRAINING_ELEPHANT_DIR))} images of elephant for training\")\n",
    "# print(f\"There are {len(os.listdir(TRAINING_RHINO_DIR))} images of rhino for training\")\n",
    "# print(f\"There are {len(os.listdir(TRAINING_ZEBRA_DIR))} images of zebra for training\\n\")\n",
    "\n",
    "# print(f\"There are {len(os.listdir(VALIDATION_BUFFALO_DIR))} images of buffalo for validation\")\n",
    "# print(f\"There are {len(os.listdir(VALIDATION_ELEPHANT_DIR))} images of elephant for validation\")\n",
    "# print(f\"There are {len(os.listdir(VALIDATION_RHINO_DIR))} images of rhino for validation\")\n",
    "# print(f\"There are {len(os.listdir(VALIDATION_ZEBRA_DIR))} images of zebra for validation\")"
   ]
  },
  {
   "cell_type": "code",
   "execution_count": null,
   "id": "3f360451-464c-4a56-89d2-842a264392ab",
   "metadata": {},
   "outputs": [],
   "source": []
  }
 ],
 "metadata": {
  "kernelspec": {
   "display_name": "Python 3 (ipykernel)",
   "language": "python",
   "name": "python3"
  },
  "language_info": {
   "codemirror_mode": {
    "name": "ipython",
    "version": 3
   },
   "file_extension": ".py",
   "mimetype": "text/x-python",
   "name": "python",
   "nbconvert_exporter": "python",
   "pygments_lexer": "ipython3",
   "version": "3.9.12"
  }
 },
 "nbformat": 4,
 "nbformat_minor": 5
}
